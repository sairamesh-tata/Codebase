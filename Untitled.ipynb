{
 "cells": [
  {
   "cell_type": "code",
   "execution_count": 2,
   "metadata": {},
   "outputs": [
    {
     "name": "stdout",
     "output_type": "stream",
     "text": [
      "INPUT ARRAY : \n",
      " [[ 0  1  2  3]\n",
      " [ 4  5  6  7]\n",
      " [ 8  9 10 11]]\n",
      "\n",
      "Max element :  11\n",
      "\n",
      "Indices of Max element :  [2 2 2 2]\n",
      "\n",
      "Indices of Max element :  [3 3 3]\n",
      "\n",
      "Indices of Max element :  [3 3 3]\n"
     ]
    }
   ],
   "source": [
    "import numpy as geek  \n",
    "  \n",
    "# Working on 2D array \n",
    "array = geek.arange(12).reshape(3, 4) \n",
    "print(\"INPUT ARRAY : \\n\", array) \n",
    "  \n",
    "# No axis mentioned, so works on entire array \n",
    "print(\"\\nMax element : \", geek.argmax(array)) \n",
    "  \n",
    "# returning Indices of the max element \n",
    "# as per the indices \n",
    "print(\"\\nIndices of Max element : \", geek.argmax(array, axis=0)) \n",
    "print(\"\\nIndices of Max element : \", geek.argmax(array, axis=1)) \n",
    "print(\"\\nIndices of Max element : \", geek.argmax(array, axis=-1)) "
   ]
  },
  {
   "cell_type": "code",
   "execution_count": null,
   "metadata": {},
   "outputs": [],
   "source": []
  }
 ],
 "metadata": {
  "kernelspec": {
   "display_name": "Python 3",
   "language": "python",
   "name": "python3"
  },
  "language_info": {
   "codemirror_mode": {
    "name": "ipython",
    "version": 3
   },
   "file_extension": ".py",
   "mimetype": "text/x-python",
   "name": "python",
   "nbconvert_exporter": "python",
   "pygments_lexer": "ipython3",
   "version": "3.6.4"
  }
 },
 "nbformat": 4,
 "nbformat_minor": 2
}
